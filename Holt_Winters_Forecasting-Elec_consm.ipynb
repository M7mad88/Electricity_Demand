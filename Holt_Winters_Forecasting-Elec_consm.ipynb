{
 "cells": [
  {
   "cell_type": "code",
   "execution_count": 1,
   "metadata": {},
   "outputs": [],
   "source": [
    "import numpy as np\n",
    "import matplotlib as mpl\n",
    "import matplotlib.pyplot as plt\n",
    "import statsmodels.api as sm\n",
    "\n",
    "%matplotlib inline"
   ]
  },
  {
   "cell_type": "code",
   "execution_count": 2,
   "metadata": {},
   "outputs": [],
   "source": [
    "class Holt_Winters:\n",
    "    __doc__ = '''\n",
    "    Holt Winters prediction method for time-series.\n",
    "    \n",
    "    Attributes:\n",
    "    ----------\n",
    "    data = set of data. Compatible with a numpy array. \n",
    "    alpha, gamma, delta = smoothing parameters for the current level, trend, and seasonal index. standard values are alpha = 0.4, gamma = 0.1, delta = 0.4.\n",
    "    p = expected period. default value p = 4 for quarterly data. insert p = 12 for monthly data, p = 7 for weekly data. \n",
    "    seasonality = type of expected seasonality. standard is 'multiplicative'. The alternatives are 'additive' and False (if there is no seasonality; in this case delta and p are not required)\n",
    "    '''\n",
    "\n",
    "    def __init__(self, data, alpha = 0.4, gamma = 0.1, delta = 0.4, p = 4, seasonality = 'multiplicative'):\n",
    "        self.data = data\n",
    "        self.alpha = alpha\n",
    "        self.gamma = gamma\n",
    "        self.delta = delta\n",
    "        self.p = p\n",
    "        self.seasonality = seasonality\n",
    "    \n",
    "    def add_point(self, d):\n",
    "        \"\"\"\n",
    "        Adds one data point to the data set.\n",
    "        \"\"\"\n",
    "        self.data = np.append(self.data,d)\n",
    "    \n",
    "    def set_alpha(self, alpha):\n",
    "        \"\"\"\n",
    "        Manually set the value of alpha\n",
    "        \"\"\"\n",
    "        self.alpha = alpha\n",
    "        \n",
    "    def set_gamma(self, gamma):\n",
    "        \"\"\"\n",
    "        Manually set the value of gamma\n",
    "        \"\"\"\n",
    "        self.gamma = gamma\n",
    "        \n",
    "    def set_delta(self, delta):\n",
    "        \"\"\"\n",
    "        Manually set the value of delta\n",
    "        \"\"\"\n",
    "        self.delta = delta\n",
    "        \n",
    "    def set_period(self, p):\n",
    "        \"\"\"\n",
    "        Manually set the value of p\n",
    "        \"\"\"\n",
    "        self.p = p\n",
    "    \n",
    "    def set_L0(self, L0):\n",
    "        \"\"\"\n",
    "        Manually set the initial value of the current level\n",
    "        \"\"\"        \n",
    "        self.L0 = L0\n",
    "\n",
    "    def set_T0(self, T0):\n",
    "        \"\"\"\n",
    "        Manually set the initial value of the current trend\n",
    "        \"\"\"      \n",
    "        self.T0 = T0\n",
    "        \n",
    "    def set_I0(self, I0):\n",
    "        \"\"\"\n",
    "        Manually set the initial value of the seasonal index. I0 is an array of p elements.\n",
    "        \"\"\"      \n",
    "        self.I0 = I0\n",
    "        \n",
    "    def auto_L0(self):\n",
    "        \"\"\"\n",
    "        Automatically set the initial value of the current level to the average of the first p observations.\n",
    "        If seasonality == False, p is set to 3.\n",
    "        \"\"\"\n",
    "        if self.seasonality != False:\n",
    "            self.L0 = np.average(self.data[:self.p])\n",
    "        else:\n",
    "            self.L0 = np.average(self.data[:3])\n",
    " \n",
    "    def auto_T0(self):\n",
    "        \"\"\"\n",
    "        Automatically set the initial value of the trend to 0.\n",
    "        \"\"\"          \n",
    "        self.T0 = 0\n",
    "        \n",
    "    def auto_I0(self):\n",
    "        \"\"\"\n",
    "        Automatically set the initial value of the seasonal index so that the average for the first p observations is either 1 (multiplicative case) or 0 (additive case).\n",
    "        \"\"\"  \n",
    "        if self.seasonality == 'multiplicative':\n",
    "            X1av = np.average(self.data[:self.p])\n",
    "            self.I0 = self.data[:self.p]/X1av\n",
    "        elif self.seasonality == 'additive':\n",
    "            X1av = np.average(self.data[:self.p])\n",
    "            self.I0 = self.data[:self.p]-X1av\n",
    "        \n",
    "    def normalise_I(self, I, k):\n",
    "        \"\"\"\n",
    "        Normalise the seasonal index for the observations p-1, ..., p-k.\n",
    "        The seasonal index averages to 1 in the multiplicative case, 0 in the additive case.\n",
    "        \"\"\"          \n",
    "        p = self.p\n",
    "        if k >= p and self.seasonality == 'multiplicative':\n",
    "            I_av = np.sum(I[k-p : k])/p\n",
    "            for k in range(k-p,k):\n",
    "                I[k] = I[k] / I_av\n",
    "        elif k >= p and self.seasonality == 'additive':\n",
    "            I_av = np.sum(I[k-p : k])/p\n",
    "            for k in range(k-p,k):\n",
    "                I[k] = I[k] - I_av\n",
    "        return I\n",
    "        \n",
    "\n",
    "    def fit(self, alpha = None, gamma = None, delta = None, normalise = False):\n",
    "        \"\"\"\n",
    "        Calculates L[t], T[t], and I[t] for the data. Uses standard Holt-Winters formulas for the seasonal cases and the non-seasonal case.\n",
    "        alpha, gamma, delta = smoothing parameters. If not specified, the ones contained in the regressor object are used.\n",
    "        normalise = whether to normalise the seasonal index at each step. standard is False.\n",
    "        \n",
    "        Sets the values of L, T, I, and the one-step-ahead predictions for the data, OSA_values. \n",
    "        \"\"\"\n",
    "        n = len(self.data)\n",
    "\n",
    "        if self.seasonality == 'multiplicative':\n",
    "            if alpha is None:\n",
    "                alpha = self.alpha\n",
    "            if gamma is None:\n",
    "                gamma = self.gamma\n",
    "            if delta is None:\n",
    "                delta = self.delta\n",
    "            \n",
    "            p = self.p\n",
    "        \n",
    "            L = np.zeros(n)\n",
    "            T = np.zeros(n)\n",
    "            I = np.zeros(n)\n",
    "            OSA_values = np.zeros(n)\n",
    "        \n",
    "            L[0] = alpha*(self.data[0] / self.I0[0]) + (1 - alpha)*(self.L0 + self.T0)\n",
    "            T[0] = gamma*(L[0]-self.L0) + (1-gamma)*self.T0\n",
    "            I[0] = delta*(self.data[0] / L[0]) + (1 - delta)*self.I0[0]\n",
    "            OSA_values[0] = (self.L0 + self.T0)*self.I0[0]\n",
    "\n",
    "            for k in range(1,p):\n",
    "                L[k] = alpha*(self.data[k] / self.I0[k]) + (1 - alpha)*(L[k-1] + T[k-1])\n",
    "                T[k] = gamma*(L[k]-L[k-1]) + (1-gamma)*T[k-1]\n",
    "                I[k] = delta*(self.data[k] / L[k]) + (1 - delta)*self.I0[k]\n",
    "                OSA_values[k] = (L[k-1] + T[k-1])*self.I0[k] \n",
    "\n",
    "            for k in range(p,n):\n",
    "                L[k] = alpha*(self.data[k] / I[k-p]) + (1 - alpha)*(L[k-1] + T[k-1])\n",
    "                T[k] = gamma*(L[k]-L[k-1]) + (1-gamma)*T[k-1]\n",
    "                I[k] = delta*(self.data[k] / L[k]) + (1 - delta)*I[k-p]\n",
    "                OSA_values[k] = (L[k-1] + T[k-1])*I[k-p] \n",
    "                if normalise == True:\n",
    "                    I = self.normalise_I(I,k)\n",
    "     \n",
    "            self.L = L\n",
    "            self.T = T\n",
    "            self.I = I\n",
    "            self.OSA_values=OSA_values\n",
    "          \n",
    "        elif self.seasonality == False:\n",
    "            if alpha is None:\n",
    "                alpha = self.alpha\n",
    "            if gamma is None:\n",
    "                gamma = self.gamma\n",
    "          \n",
    "            L = np.zeros(n)\n",
    "            T = np.zeros(n)\n",
    "            OSA_values = np.zeros(n)\n",
    "        \n",
    "            L[0] = alpha*self.data[0] + (1 - alpha)*(self.L0 + self.T0)\n",
    "            T[0] = gamma*(L[0]-self.L0) + (1-gamma)*self.T0\n",
    "            OSA_values[0] = self.L0 + self.T0\n",
    "\n",
    "            for k in range(1,n):\n",
    "                L[k] = alpha*self.data[k] + (1 - alpha)*(L[k-1] + T[k-1])\n",
    "                T[k] = gamma*(L[k]-L[k-1]) + (1-gamma)*T[k-1]\n",
    "                OSA_values[k] = L[k-1] + T[k-1] \n",
    "            \n",
    "            self.L = L\n",
    "            self.T = T\n",
    "            self.OSA_values=OSA_values\n",
    "\n",
    "        elif self.seasonality == 'additive':\n",
    "            if alpha is None:\n",
    "                alpha = self.alpha\n",
    "            if gamma is None:\n",
    "                gamma = self.gamma\n",
    "            if delta is None:\n",
    "                delta = self.delta\n",
    "            \n",
    "            p = self.p\n",
    "        \n",
    "            L = np.zeros(n)\n",
    "            T = np.zeros(n)\n",
    "            I = np.zeros(n)\n",
    "            OSA_values = np.zeros(n)\n",
    "        \n",
    "            L[0] = alpha*(self.data[0] - self.I0[0]) + (1 - alpha)*(self.L0 + self.T0)\n",
    "            T[0] = gamma*(L[0]-self.L0) + (1-gamma)*self.T0\n",
    "            I[0] = delta*(self.data[0] - L[0]) + (1 - delta)*self.I0[0]\n",
    "            OSA_values[0] = self.L0 + self.T0 + self.I0[0]\n",
    "\n",
    "            for k in range(1,p):\n",
    "                L[k] = alpha*(self.data[k] - self.I0[k]) + (1 - alpha)*(L[k-1] + T[k-1])\n",
    "                T[k] = gamma*(L[k]-L[k-1]) + (1-gamma)*T[k-1]\n",
    "                I[k] = delta*(self.data[k] - L[k]) + (1 - delta)*self.I0[k]\n",
    "                OSA_values[k] = L[k-1] + T[k-1]+self.I0[k] \n",
    "\n",
    "            for k in range(p,n):\n",
    "                L[k] = alpha*(self.data[k] - I[k-p]) + (1 - alpha)*(L[k-1] + T[k-1])\n",
    "                T[k] = gamma*(L[k]-L[k-1]) + (1-gamma)*T[k-1]\n",
    "                I[k] = delta*(self.data[k] - L[k]) + (1 - delta)*I[k-p]\n",
    "                OSA_values[k] = L[k-1] + T[k-1] + I[k-p] \n",
    "                if normalise == True:\n",
    "                    I = self.normalise_I(I,k)\n",
    "     \n",
    "            self.L = L\n",
    "            self.T = T\n",
    "            self.I = I\n",
    "            self.OSA_values=OSA_values\n",
    "                \n",
    "            \n",
    "    def MSE_fit(self, start = None, alpha = None, gamma = None, delta = None):\n",
    "        \"\"\"\n",
    "        Calculates the mean squared error of the fit starting from a certain data point to the last data point. \n",
    "        Typically starts after two periods have occurred.\n",
    "        start = first observation from which the error is calculated. If None, 2*p + 1 is used in the seasonal cases, 3 otherwise.\n",
    "        alpha, gamma, delta = smoothing parameters. If not specified, the ones contained in the regressor object are used.\n",
    "        \"\"\"\n",
    "        if start == None and self.seasonality != False:\n",
    "            start = 2*self.p\n",
    "        elif start == None:\n",
    "            start = 3\n",
    "\n",
    "        if alpha is None:\n",
    "            alpha = self.alpha\n",
    "            \n",
    "        if gamma is None:\n",
    "            gamma = self.gamma\n",
    "\n",
    "        if delta is None:\n",
    "            delta = self.delta\n",
    "           \n",
    "        n_steps = len(self.data[start:])\n",
    "        \n",
    "        self.fit(alpha, gamma, delta)\n",
    "        resid = self.OSA_values[start:] - self.data[start:]\n",
    "        return np.sum(resid**2)/len(self.data[start:])\n",
    "        \n",
    "    def auto_set_params(self, start = None):\n",
    "        \"\"\"\n",
    "        Automatically sets values of alpha, gamma, delta.\n",
    "        A grid of values is constructed and the values that correspond to the minimum MSE of the fit are selected.\n",
    "        alpha is between 0.1 and 0.9, gamma is between 0.05 and 0.3, delta is between 0.1 and 0.9.\n",
    "        start = first observation from which the error is calculated.\n",
    "        \"\"\"\n",
    "        grid = np.zeros((17*11*17,4))\n",
    "        k = 0\n",
    "        results = np.zeros((17*11*17,4))\n",
    "        for a in range(2,19):\n",
    "            for b in range(2,13):\n",
    "                for c in range(2,19):\n",
    "                    alpha = 0.05*a\n",
    "                    gamma = 0.025*b\n",
    "                    delta = 0.05*c\n",
    "                    \n",
    "                    results[k] = np.array([alpha,gamma,delta,self.MSE_fit(start, alpha, gamma, delta)])\n",
    "                    k = k+1\n",
    "        results = results[results[:,3].argsort()]\n",
    "        self.alpha = results[0,0]\n",
    "        self.gamma = results[0,1]\n",
    "        self.delta = results[0,2]\n",
    "        self.grid = results\n",
    "        return np.array([alpha,gamma,delta])\n",
    "    \n",
    "    def predict(self,n):\n",
    "        \"\"\"\n",
    "        n-step-ahead predictions for the data. \n",
    "        \"\"\"\n",
    "        predictions = np.zeros(n)\n",
    "        if self.seasonality == 'multiplicative':\n",
    "            for k in range(n):\n",
    "                predictions[k] = (self.L[-1]+(k+1)*self.T[-1])*self.I[-self.p+k]\n",
    "        elif self.seasonality == 'additive':\n",
    "            for k in range(n):\n",
    "                predictions[k] = self.L[-1]+(k+1)*self.T[-1]+self.I[-self.p+k]\n",
    "        elif self.seasonality == False:\n",
    "            for k in range(n):\n",
    "                predictions[k] = self.L[-1]+(k+1)*self.T[-1]\n",
    "        return predictions\n",
    "        \n",
    "   "
   ]
  },
  {
   "cell_type": "markdown",
   "metadata": {},
   "source": [
    "### Implementation on Electricity Consumption data"
   ]
  },
  {
   "cell_type": "code",
   "execution_count": 3,
   "metadata": {},
   "outputs": [
    {
     "data": {
      "text/html": [
       "<div>\n",
       "<style scoped>\n",
       "    .dataframe tbody tr th:only-of-type {\n",
       "        vertical-align: middle;\n",
       "    }\n",
       "\n",
       "    .dataframe tbody tr th {\n",
       "        vertical-align: top;\n",
       "    }\n",
       "\n",
       "    .dataframe thead th {\n",
       "        text-align: right;\n",
       "    }\n",
       "</style>\n",
       "<table border=\"1\" class=\"dataframe\">\n",
       "  <thead>\n",
       "    <tr style=\"text-align: right;\">\n",
       "      <th></th>\n",
       "      <th>DATE</th>\n",
       "      <th>Electricty_Consumption_in_TW</th>\n",
       "    </tr>\n",
       "  </thead>\n",
       "  <tbody>\n",
       "    <tr>\n",
       "      <th>556</th>\n",
       "      <td>5/1/2019</td>\n",
       "      <td>97.5860</td>\n",
       "    </tr>\n",
       "    <tr>\n",
       "      <th>557</th>\n",
       "      <td>6/1/2019</td>\n",
       "      <td>110.8580</td>\n",
       "    </tr>\n",
       "    <tr>\n",
       "      <th>558</th>\n",
       "      <td>7/1/2019</td>\n",
       "      <td>122.1014</td>\n",
       "    </tr>\n",
       "    <tr>\n",
       "      <th>559</th>\n",
       "      <td>8/1/2019</td>\n",
       "      <td>121.7765</td>\n",
       "    </tr>\n",
       "    <tr>\n",
       "      <th>560</th>\n",
       "      <td>9/1/2019</td>\n",
       "      <td>109.7190</td>\n",
       "    </tr>\n",
       "  </tbody>\n",
       "</table>\n",
       "</div>"
      ],
      "text/plain": [
       "         DATE  Electricty_Consumption_in_TW\n",
       "556  5/1/2019                       97.5860\n",
       "557  6/1/2019                      110.8580\n",
       "558  7/1/2019                      122.1014\n",
       "559  8/1/2019                      121.7765\n",
       "560  9/1/2019                      109.7190"
      ]
     },
     "execution_count": 3,
     "metadata": {},
     "output_type": "execute_result"
    }
   ],
   "source": [
    "import pandas as pd\n",
    "data=pd.read_csv('E:/Dsc_analytixlabs/New_ML/Capstone Projects/13. Capstone Case Study - Demand Estimation/Electricity Consumption.csv')\n",
    "data.tail(5)"
   ]
  },
  {
   "cell_type": "code",
   "execution_count": 4,
   "metadata": {},
   "outputs": [],
   "source": [
    "date_range_val = pd.date_range(start='1973-01-01', freq='MS', periods=len(data))"
   ]
  },
  {
   "cell_type": "code",
   "execution_count": 5,
   "metadata": {},
   "outputs": [],
   "source": [
    "data.set_index(date_range_val, inplace=True)"
   ]
  },
  {
   "cell_type": "code",
   "execution_count": 6,
   "metadata": {},
   "outputs": [],
   "source": [
    "data.columns = ['Month_Year', 'Electricty_Consumption_in_TW']"
   ]
  },
  {
   "cell_type": "code",
   "execution_count": 8,
   "metadata": {},
   "outputs": [],
   "source": [
    "df = data.Electricty_Consumption_in_TW"
   ]
  },
  {
   "cell_type": "code",
   "execution_count": 9,
   "metadata": {},
   "outputs": [
    {
     "data": {
      "text/plain": [
       "<matplotlib.axes._subplots.AxesSubplot at 0x1a1818a8e10>"
      ]
     },
     "execution_count": 9,
     "metadata": {},
     "output_type": "execute_result"
    },
    {
     "data": {
      "image/png": "[encoded data removed]",
      "text/plain": [
       "<Figure size 432x288 with 1 Axes>"
      ]
     },
     "metadata": {
      "needs_background": "light"
     },
     "output_type": "display_data"
    }
   ],
   "source": [
    "df.plot()"
   ]
  },
  {
   "cell_type": "code",
   "execution_count": 10,
   "metadata": {},
   "outputs": [],
   "source": [
    "HWregressor = Holt_Winters(df,seasonality='multiplicative',p=12)\n",
    "HWregressor.auto_I0()\n",
    "HWregressor.auto_L0()\n",
    "HWregressor.auto_T0()\n",
    "HWregressor.auto_set_params()\n",
    "HWregressor.fit(normalise=False)"
   ]
  },
  {
   "cell_type": "code",
   "execution_count": 11,
   "metadata": {},
   "outputs": [
    {
     "name": "stdout",
     "output_type": "stream",
     "text": [
      "[ 96.93731474  94.5461245  105.0927977  112.10060766 101.97064993\n",
      "  99.10395402  93.18774814  99.77007132 114.16459115 125.70097321\n",
      " 124.33899121 111.49750428]\n"
     ]
    }
   ],
   "source": [
    "print(HWregressor.predict(12))"
   ]
  },
  {
   "cell_type": "code",
   "execution_count": 12,
   "metadata": {},
   "outputs": [
    {
     "name": "stdout",
     "output_type": "stream",
     "text": [
      "0.45 0.05 0.5\n"
     ]
    }
   ],
   "source": [
    "print(HWregressor.alpha,   HWregressor.gamma,   HWregressor.delta)"
   ]
  },
  {
   "cell_type": "code",
   "execution_count": 13,
   "metadata": {},
   "outputs": [],
   "source": [
    "### ETS Models using statsmodel package using above values"
   ]
  },
  {
   "cell_type": "code",
   "execution_count": 58,
   "metadata": {},
   "outputs": [],
   "source": [
    "#ETS Models\n",
    "### single exponential smoothing\n",
    "from statsmodels.tsa.holtwinters import ExponentialSmoothing\n",
    "\n",
    "# our guessed parameters\n",
    "alpha = 0.45\n",
    "beta = 0.05\n",
    "gamma = 0.5\n",
    "\n",
    "# initialise model\n",
    "ets_model = ExponentialSmoothing(df, trend='mul', seasonal='mul', seasonal_periods=12)\n",
    "ets_fit = ets_model.fit(smoothing_level=alpha, smoothing_slope=beta, smoothing_seasonal=gamma)"
   ]
  },
  {
   "cell_type": "code",
   "execution_count": 59,
   "metadata": {},
   "outputs": [],
   "source": [
    "# forecast p months ahead\n",
    "p_ahead = 12\n",
    "fcast = ets_fit.forecast(p_ahead)"
   ]
  },
  {
   "cell_type": "code",
   "execution_count": 60,
   "metadata": {},
   "outputs": [
    {
     "data": {
      "text/plain": [
       "2015-01-01    562.477658\n",
       "2015-02-01    558.460850\n",
       "2015-03-01    638.508157\n",
       "2015-04-01    783.408766\n",
       "2015-05-01    864.228644\n",
       "2015-06-01    813.761756\n",
       "2015-07-01    943.930762\n",
       "2015-08-01    924.143619\n",
       "2015-09-01    706.350085\n",
       "2015-10-01    642.776061\n",
       "2015-11-01    572.911666\n",
       "2015-12-01    684.593475\n",
       "Freq: MS, dtype: float64"
      ]
     },
     "execution_count": 60,
     "metadata": {},
     "output_type": "execute_result"
    }
   ],
   "source": [
    "fcast"
   ]
  },
  {
   "cell_type": "markdown",
   "metadata": {},
   "source": [
    "The values are slightly get deviated from both methods however the values will be similar. THe first method help to calculate best values of alpha, beta and gamma. We will use statsmodel package to get final model accuarcy"
   ]
  },
  {
   "cell_type": "code",
   "execution_count": null,
   "metadata": {},
   "outputs": [],
   "source": []
  }
 ],
 "metadata": {
  "kernelspec": {
   "display_name": "Python 3",
   "language": "python",
   "name": "python3"
  },
  "language_info": {
   "codemirror_mode": {
    "name": "ipython",
    "version": 3
   },
   "file_extension": ".py",
   "mimetype": "text/x-python",
   "name": "python",
   "nbconvert_exporter": "python",
   "pygments_lexer": "ipython3",
   "version": "3.7.3"
  }
 },
 "nbformat": 4,
 "nbformat_minor": 1
}
